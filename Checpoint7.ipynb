{
 "cells": [
  {
   "cell_type": "markdown",
   "id": "db61af9e",
   "metadata": {},
   "source": [
    "# 1. DECISION TREE"
   ]
  },
  {
   "cell_type": "code",
   "execution_count": 1,
   "id": "b2d3c759",
   "metadata": {},
   "outputs": [],
   "source": [
    "#Importing our dataset from csv file\n",
    "import pandas as pd \n",
    "dataset=pd.read_csv(\"titanic-passengers.csv\", sep=\";\")\n",
    "\n",
    "#Preprocessing our data\n",
    "def preprocess_data(new_data):\n",
    "    new_data['Age'].fillna(new_data['Age'].mean(),inplace=True)\n",
    "    new_data.replace({'Sex':{'male': 1,'female':0}},inplace=True)\n",
    "    new_data['Cabin']=new_data.Cabin.fillna('G6')\n",
    "    new_data.replace({'Survived':{'Yes': 1,'No':0}},inplace=True)\n",
    "    return new_data\n",
    "data=preprocess_data(dataset)"
   ]
  },
  {
   "cell_type": "code",
   "execution_count": 16,
   "id": "19ee6e29",
   "metadata": {},
   "outputs": [
    {
     "name": "stdout",
     "output_type": "stream",
     "text": [
      "score:0.776536312849162\n"
     ]
    }
   ],
   "source": [
    "#importing relevant libraries\n",
    "from sklearn.model_selection import train_test_split\n",
    "from sklearn import tree   \n",
    "from sklearn.tree import DecisionTreeClassifier\n",
    "from sklearn.metrics import accuracy_score\n",
    "\n",
    "#features extraction\n",
    "x=data.drop([\"Survived\", \"Name\", \"Cabin\", \"Ticket\", \"Embarked\"], axis=1)\n",
    "y= data[\"Survived\"]\n",
    "\n",
    "#splitting data\n",
    "x_train, x_test, y_train, y_test = train_test_split(x,y, test_size=0.20,random_state=10)\n",
    "\n",
    "#applying tree algorithm\n",
    "clf = tree.DecisionTreeClassifier()  \n",
    "clf.fit(x_train, y_train)   #fitting our model\n",
    "y_pred=clf.predict(x_test)   # evaluating our model\n",
    "print(\"score:{}\".format(accuracy_score(y_test, y_pred)))"
   ]
  },
  {
   "cell_type": "markdown",
   "id": "ce2efc35",
   "metadata": {},
   "source": [
    "# 2. PLOT DECISION TREE"
   ]
  },
  {
   "cell_type": "code",
   "execution_count": null,
   "id": "95d0829e",
   "metadata": {},
   "outputs": [],
   "source": [
    "import graphviz\n",
    "dot_data =tree.export_graphviz(clf, out_file=None)\n",
    "graph=graphviz.Source(dot_data)\n",
    "graph"
   ]
  },
  {
   "cell_type": "markdown",
   "id": "8b953d07",
   "metadata": {},
   "source": [
    "Pour l'affichage de l'arbre de décision,  \n",
    "Je rencontre un problème d'encodage du fichier.\n",
    "J'ai essayer de résoudre mais je n'y arrive pas."
   ]
  },
  {
   "cell_type": "markdown",
   "id": "7b8876fc",
   "metadata": {},
   "source": [
    "# 3. CHANGE DECISION TREE PARAMETERS"
   ]
  },
  {
   "cell_type": "code",
   "execution_count": 39,
   "id": "f540a84c",
   "metadata": {},
   "outputs": [],
   "source": [
    "#importing relevant libraries\n",
    "from sklearn.model_selection import train_test_split\n",
    "from sklearn import tree   \n",
    "from sklearn.tree import DecisionTreeClassifier\n",
    "from sklearn.metrics import accuracy_score\n",
    "\n",
    "#features extraction\n",
    "\n",
    "# 1. Ne pas inclure 'PassengerId' et 'Parch' dans les données d'entrée\n",
    "\n",
    "x=data.drop([\"Survived\", \"Name\", \"Cabin\", \"Ticket\", \"Embarked\",\"PassengerId\",\"Parch\"], axis=1)\n",
    "y= data[\"Survived\"]\n",
    "\n",
    "# 2. Changer la proportion des valeurs d'entraînement et de test (30% pour les tests)\n",
    "\n",
    "x_train, x_test, y_train, y_test = train_test_split(x,y, test_size=0.30,random_state=10)\n"
   ]
  },
  {
   "cell_type": "markdown",
   "id": "e6a4345c",
   "metadata": {},
   "source": [
    "# 4. NEW ACCURACY"
   ]
  },
  {
   "cell_type": "code",
   "execution_count": 38,
   "id": "e06dfea9",
   "metadata": {},
   "outputs": [
    {
     "name": "stdout",
     "output_type": "stream",
     "text": [
      "score:0.7910447761194029\n"
     ]
    }
   ],
   "source": [
    "#applying tree algorithm\n",
    "clf = tree.DecisionTreeClassifier()  \n",
    "clf.fit(x_train, y_train)   #fitting our model\n",
    "y_pred=clf.predict(x_test)   # evaluating our model\n",
    "print(\"score:{}\".format(accuracy_score(y_test, y_pred)))"
   ]
  },
  {
   "cell_type": "markdown",
   "id": "ec8d813f",
   "metadata": {},
   "source": [
    "La précision augmente."
   ]
  },
  {
   "cell_type": "markdown",
   "id": "4de048d5",
   "metadata": {},
   "source": [
    "# 5. USE RANDOM FOREST"
   ]
  },
  {
   "cell_type": "code",
   "execution_count": 44,
   "id": "59187a7c",
   "metadata": {},
   "outputs": [
    {
     "name": "stdout",
     "output_type": "stream",
     "text": [
      "Précision: 0.8379888268156425\n"
     ]
    }
   ],
   "source": [
    "from sklearn import datasets\n",
    "import pandas as pd\n",
    "from sklearn.model_selection import train_test_split\n",
    "from sklearn.ensemble import RandomForestClassifier #Importing Random Forest Classifier\n",
    "from sklearn import metrics  # Importing metrics to test accuracy\n",
    "\n",
    "\n",
    "#features extraction\n",
    "x=data.drop([\"Survived\", \"Name\", \"Cabin\", \"Ticket\", \"Embarked\"], axis=1)\n",
    "y= data[\"Survived\"]\n",
    "\n",
    "#splitting data\n",
    "x_train, x_test, y_train, y_test = train_test_split(x,y, test_size=0.20,random_state=10)\n",
    "\n",
    "\n",
    "\n",
    "clf=RandomForestClassifier(n_estimators=10)  #Creating a random forest with 100 decision trees\n",
    "clf.fit(x_train, y_train)  #Training our model\n",
    "y_pred=clf.predict(x_test)  #testing our model\n",
    "print(\"Précision:\", metrics.accuracy_score(y_test, y_pred))  #Measuring the accuracy of our model"
   ]
  },
  {
   "cell_type": "markdown",
   "id": "6d1b1679",
   "metadata": {},
   "source": [
    "La méthode random forest est plus précise, la précision de Random forest est plus grande que celle de decision tree"
   ]
  },
  {
   "cell_type": "code",
   "execution_count": null,
   "id": "dcf308fb",
   "metadata": {},
   "outputs": [],
   "source": []
  }
 ],
 "metadata": {
  "kernelspec": {
   "display_name": "Python 3",
   "language": "python",
   "name": "python3"
  },
  "language_info": {
   "codemirror_mode": {
    "name": "ipython",
    "version": 3
   },
   "file_extension": ".py",
   "mimetype": "text/x-python",
   "name": "python",
   "nbconvert_exporter": "python",
   "pygments_lexer": "ipython3",
   "version": "3.8.8"
  }
 },
 "nbformat": 4,
 "nbformat_minor": 5
}
